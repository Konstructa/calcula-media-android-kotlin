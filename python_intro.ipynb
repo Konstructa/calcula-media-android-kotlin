{
  "nbformat": 4,
  "nbformat_minor": 0,
  "metadata": {
    "colab": {
      "name": "python_intro.ipynb",
      "provenance": [],
      "collapsed_sections": [],
      "toc_visible": true,
      "include_colab_link": true
    },
    "kernelspec": {
      "name": "python3",
      "display_name": "Python 3"
    }
  },
  "cells": [
    {
      "cell_type": "markdown",
      "metadata": {
        "id": "view-in-github",
        "colab_type": "text"
      },
      "source": [
        "<a href=\"https://colab.research.google.com/github/Konstructa/calcula-media-android-kotlin/blob/main/python_intro.ipynb\" target=\"_parent\"><img src=\"https://colab.research.google.com/assets/colab-badge.svg\" alt=\"Open In Colab\"/></a>"
      ]
    },
    {
      "cell_type": "markdown",
      "metadata": {
        "id": "s1YHdkKsLHv0"
      },
      "source": [
        "## Python: Conhecendo a Linguagem\n",
        "\n"
      ]
    },
    {
      "cell_type": "markdown",
      "metadata": {
        "id": "1gApdkqgLXKj"
      },
      "source": [
        "# O que é Programação?"
      ]
    },
    {
      "cell_type": "markdown",
      "metadata": {
        "id": "CO1A_FvGS1ta"
      },
      "source": [
        "## O que é um programa de computador?\n",
        "## O que é um algoritmo?"
      ]
    },
    {
      "cell_type": "markdown",
      "metadata": {
        "id": "DMgkyMTTL19Z"
      },
      "source": [
        "# Um pouco mais Sobre o Python"
      ]
    },
    {
      "cell_type": "markdown",
      "metadata": {
        "id": "tYa8OguAS87U"
      },
      "source": [
        "## O que programar? (aplicações)\n",
        "## Aonde programar? (ambientes)\n",
        "## Como instalar o interpretador? "
      ]
    },
    {
      "cell_type": "markdown",
      "metadata": {
        "id": "6TwoUJstMFLm"
      },
      "source": [
        "# A linguagem (\"Hello World\")"
      ]
    },
    {
      "cell_type": "code",
      "metadata": {
        "id": "C9WsLUJoT0bP",
        "colab": {
          "base_uri": "https://localhost:8080/"
        },
        "outputId": "f7bc6dce-92dc-41dc-8850-66caf0d5c5e4"
      },
      "source": [
        "print(\"Hello' World!\")"
      ],
      "execution_count": null,
      "outputs": [
        {
          "output_type": "stream",
          "text": [
            "Hello' World!\n"
          ],
          "name": "stdout"
        }
      ]
    },
    {
      "cell_type": "markdown",
      "metadata": {
        "id": "DZ7l7kimMJG3"
      },
      "source": [
        "#Tipos de Dados básicos"
      ]
    },
    {
      "cell_type": "code",
      "metadata": {
        "id": "30Z0YovCLGcO",
        "colab": {
          "base_uri": "https://localhost:8080/"
        },
        "outputId": "820a6bd6-4df6-44fb-8f63-f76877d8205d"
      },
      "source": [
        "print(type(5)) # O tipo do número 2 é int (número inteiro)\n",
        "print(type(2.5)) # O tipo do número 2.5 é float (número decimal)\n",
        "print(type(1.5+1.5j)) # O tipo do número 1 + 1j (j é o número imaginário) é complex\n",
        "print(type('O \"termo\" termo esta entre aspas\\n')) # Sequencia de caracteres para armazenar texto\n",
        "print(type(False)) # tipo booleano para Verdadeiro (True) e Falso (False)"
      ],
      "execution_count": null,
      "outputs": [
        {
          "output_type": "stream",
          "text": [
            "<class 'int'>\n",
            "<class 'float'>\n",
            "<class 'complex'>\n",
            "<class 'str'>\n",
            "<class 'bool'>\n"
          ],
          "name": "stdout"
        }
      ]
    },
    {
      "cell_type": "code",
      "metadata": {
        "id": "B8qoPonShEqQ"
      },
      "source": [
        ""
      ],
      "execution_count": null,
      "outputs": []
    },
    {
      "cell_type": "markdown",
      "metadata": {
        "id": "aU6gFhrxM8TS"
      },
      "source": [
        "## Variáveis\n",
        "\n",
        "Uma variável não pode ter o nome comçado por números, eveitmem palavras-chave da linaguagem e caracateres especiais"
      ]
    },
    {
      "cell_type": "code",
      "metadata": {
        "id": "ChunySn1M-oz"
      },
      "source": [
        "altura_do_guilherme = 1.85 # nome_da_variavel = valor\n",
        "texto = \"Hello # world\"\n",
        "chovendo = True\n",
        "sabor_bolo = \"de Fubá\""
      ],
      "execution_count": null,
      "outputs": []
    },
    {
      "cell_type": "code",
      "metadata": {
        "id": "ZpuPJy-2Ge9t"
      },
      "source": [
        "a = 2\n",
        "b= 8"
      ],
      "execution_count": null,
      "outputs": []
    },
    {
      "cell_type": "code",
      "metadata": {
        "colab": {
          "base_uri": "https://localhost:8080/"
        },
        "id": "YUAJLooeGpBu",
        "outputId": "8370e6e1-51df-4c9b-e6b9-703a2593bb1c"
      },
      "source": [
        "a + b"
      ],
      "execution_count": null,
      "outputs": [
        {
          "output_type": "execute_result",
          "data": {
            "text/plain": [
              "10"
            ]
          },
          "metadata": {
            "tags": []
          },
          "execution_count": 5
        }
      ]
    },
    {
      "cell_type": "code",
      "metadata": {
        "colab": {
          "base_uri": "https://localhost:8080/"
        },
        "id": "gHYlJFY5FeFg",
        "outputId": "4cf84bfc-575d-483a-8262-301ff6f6bd92"
      },
      "source": [
        "print(texto)"
      ],
      "execution_count": null,
      "outputs": [
        {
          "output_type": "stream",
          "text": [
            "Tchau Mundo\n"
          ],
          "name": "stdout"
        }
      ]
    },
    {
      "cell_type": "code",
      "metadata": {
        "id": "LRZy0EDRFm5C"
      },
      "source": [
        "texto = \"Tchau Mundo\""
      ],
      "execution_count": null,
      "outputs": []
    },
    {
      "cell_type": "code",
      "metadata": {
        "id": "f8oZIuse2f3u",
        "colab": {
          "base_uri": "https://localhost:8080/"
        },
        "outputId": "54b93540-2233-43a5-cff8-90dca0109717"
      },
      "source": [
        "print(altura_do_guilherme, texto, chovendo, sabor_bolo)"
      ],
      "execution_count": null,
      "outputs": [
        {
          "output_type": "stream",
          "text": [
            "1.85 Hello world pra caramba de Fubá\n"
          ],
          "name": "stdout"
        }
      ]
    },
    {
      "cell_type": "code",
      "metadata": {
        "id": "ksObRn18SRZI"
      },
      "source": [
        "chovendo = \"pra caramba\""
      ],
      "execution_count": null,
      "outputs": []
    },
    {
      "cell_type": "code",
      "metadata": {
        "colab": {
          "base_uri": "https://localhost:8080/",
          "height": 35
        },
        "id": "gD_yZOOBlvyK",
        "outputId": "1893d13d-7832-4ffb-b684-ec778bcfad70"
      },
      "source": [
        "chovendo"
      ],
      "execution_count": null,
      "outputs": [
        {
          "output_type": "execute_result",
          "data": {
            "application/vnd.google.colaboratory.intrinsic+json": {
              "type": "string"
            },
            "text/plain": [
              "'pra caramba'"
            ]
          },
          "metadata": {
            "tags": []
          },
          "execution_count": 9
        }
      ]
    },
    {
      "cell_type": "markdown",
      "metadata": {
        "id": "1NlSUBtMM_7H"
      },
      "source": [
        "## Operações básicas (e nem tão básicas)"
      ]
    },
    {
      "cell_type": "markdown",
      "metadata": {
        "id": "ZTpQVXKzNHtY"
      },
      "source": [
        "### Com dados numéricos"
      ]
    },
    {
      "cell_type": "code",
      "metadata": {
        "id": "-UCzQIB9NF-j",
        "colab": {
          "base_uri": "https://localhost:8080/"
        },
        "outputId": "7a246728-5b24-48af-ffc5-6dcb4e9b5bb0"
      },
      "source": [
        "print(2.5+5j + 1) # o '+' é a soma usual\n",
        "print(10 - 1.5) # o '-' é a subtração usual\n",
        "print(2 * -2) # o '*' é a multiplicação usual\n",
        "print(10 / 3) # o '/' é a divisão usual\n",
        "\n",
        "print(4 ** -0.5) # o '**' é a potenciação\n",
        "print(10 // 4) # o '//' é o quociente da divisão inteira\n",
        "print(10 % 4) # o '%' é o resto da divisão inteiro"
      ],
      "execution_count": null,
      "outputs": [
        {
          "output_type": "stream",
          "text": [
            "(3.5+5j)\n",
            "8.5\n",
            "-4\n",
            "3.3333333333333335\n",
            "0.5\n",
            "2\n",
            "2\n"
          ],
          "name": "stdout"
        }
      ]
    },
    {
      "cell_type": "markdown",
      "metadata": {
        "id": "Nh39_SevNKtR"
      },
      "source": [
        "### Com dados texto"
      ]
    },
    {
      "cell_type": "code",
      "metadata": {
        "colab": {
          "base_uri": "https://localhost:8080/",
          "height": 35
        },
        "id": "NSrdoQRvsLG-",
        "outputId": "ea98d1e9-0733-4280-8a36-1a66888987f4"
      },
      "source": [
        "turno = \"noite\"\n",
        "\"Boa\" + \" \" + turno # o '+' é a concatenação de strings"
      ],
      "execution_count": null,
      "outputs": [
        {
          "output_type": "execute_result",
          "data": {
            "application/vnd.google.colaboratory.intrinsic+json": {
              "type": "string"
            },
            "text/plain": [
              "'Boa noite'"
            ]
          },
          "metadata": {
            "tags": []
          },
          "execution_count": 39
        }
      ]
    },
    {
      "cell_type": "code",
      "metadata": {
        "colab": {
          "base_uri": "https://localhost:8080/",
          "height": 35
        },
        "id": "7AhtcKhTsz39",
        "outputId": "771cc510-393f-4772-9979-0dc853228313"
      },
      "source": [
        "\"repete \" * 5 # o '*' repete a string x vezes onde x é um número inteiro"
      ],
      "execution_count": null,
      "outputs": [
        {
          "output_type": "execute_result",
          "data": {
            "application/vnd.google.colaboratory.intrinsic+json": {
              "type": "string"
            },
            "text/plain": [
              "'repete repete repete repete repete '"
            ]
          },
          "metadata": {
            "tags": []
          },
          "execution_count": 43
        }
      ]
    },
    {
      "cell_type": "code",
      "metadata": {
        "id": "pjuPh9l2N61P",
        "colab": {
          "base_uri": "https://localhost:8080/"
        },
        "outputId": "94f94ed1-9a6d-4298-ec7c-45004b9a828a"
      },
      "source": [
        "anos = input(\"Digite sua idade: \")\n",
        "frase = \"Ola eu sou Guilherme e tenho \" + anos + ' anos.' \n",
        "print(frase)"
      ],
      "execution_count": null,
      "outputs": [
        {
          "output_type": "stream",
          "text": [
            "Digite sua idade: 36\n",
            "Ola eu sou Guilherme e tenho 36 anos.\n"
          ],
          "name": "stdout"
        }
      ]
    },
    {
      "cell_type": "code",
      "metadata": {
        "colab": {
          "base_uri": "https://localhost:8080/"
        },
        "id": "XS8v92fDwtFk",
        "outputId": "faf82f7c-3969-401c-f377-312f513b8a4d"
      },
      "source": [
        "anos = float(input(\"Digite sua idade: \"))\n",
        "aniversario = anos + 1\n",
        "frase = \"Ola eu sou Guilherme ano que vem farei \" + str(aniversario) + ' anos.' \n",
        "print(frase)"
      ],
      "execution_count": null,
      "outputs": [
        {
          "output_type": "stream",
          "text": [
            "Digite sua idade: 35\n",
            "Ola eu sou Guilherme ano que vem farei 36.0 anos.\n"
          ],
          "name": "stdout"
        }
      ]
    },
    {
      "cell_type": "code",
      "metadata": {
        "colab": {
          "base_uri": "https://localhost:8080/",
          "height": 201
        },
        "id": "Y3j8aRWexQN9",
        "outputId": "a534f831-6969-42e6-dca5-d4cc3e1247b7"
      },
      "source": [
        "a = \"45/\"\n",
        "\n",
        "b = float(a)"
      ],
      "execution_count": null,
      "outputs": [
        {
          "output_type": "error",
          "ename": "ValueError",
          "evalue": "ignored",
          "traceback": [
            "\u001b[0;31m---------------------------------------------------------------------------\u001b[0m",
            "\u001b[0;31mValueError\u001b[0m                                Traceback (most recent call last)",
            "\u001b[0;32m<ipython-input-79-f68cccd611fb>\u001b[0m in \u001b[0;36m<module>\u001b[0;34m()\u001b[0m\n\u001b[1;32m      1\u001b[0m \u001b[0ma\u001b[0m \u001b[0;34m=\u001b[0m \u001b[0;34m\"45/\"\u001b[0m\u001b[0;34m\u001b[0m\u001b[0;34m\u001b[0m\u001b[0m\n\u001b[1;32m      2\u001b[0m \u001b[0;34m\u001b[0m\u001b[0m\n\u001b[0;32m----> 3\u001b[0;31m \u001b[0mb\u001b[0m \u001b[0;34m=\u001b[0m \u001b[0mfloat\u001b[0m\u001b[0;34m(\u001b[0m\u001b[0ma\u001b[0m\u001b[0;34m)\u001b[0m\u001b[0;34m\u001b[0m\u001b[0;34m\u001b[0m\u001b[0m\n\u001b[0m",
            "\u001b[0;31mValueError\u001b[0m: could not convert string to float: '45/'"
          ]
        }
      ]
    },
    {
      "cell_type": "code",
      "metadata": {
        "colab": {
          "base_uri": "https://localhost:8080/"
        },
        "id": "sUftYoA2xv1Q",
        "outputId": "1e2854b3-1ede-4b79-e2f8-280dc4ba88c3"
      },
      "source": [
        ""
      ],
      "execution_count": null,
      "outputs": [
        {
          "output_type": "execute_result",
          "data": {
            "text/plain": [
              "2.5"
            ]
          },
          "metadata": {
            "tags": []
          },
          "execution_count": 72
        }
      ]
    },
    {
      "cell_type": "code",
      "metadata": {
        "colab": {
          "base_uri": "https://localhost:8080/",
          "height": 35
        },
        "id": "dEi9baHlTn91",
        "outputId": "acc3ee2f-de67-4b68-8042-c757cce0ae57"
      },
      "source": [
        "(\"oi \" *2+ \"tudo bem \") * 4"
      ],
      "execution_count": null,
      "outputs": [
        {
          "output_type": "execute_result",
          "data": {
            "application/vnd.google.colaboratory.intrinsic+json": {
              "type": "string"
            },
            "text/plain": [
              "'oi oi tudo bem oi oi tudo bem oi oi tudo bem oi oi tudo bem '"
            ]
          },
          "metadata": {
            "tags": []
          },
          "execution_count": 45
        }
      ]
    },
    {
      "cell_type": "code",
      "metadata": {
        "id": "IcdPs7g9k0YX",
        "colab": {
          "base_uri": "https://localhost:8080/",
          "height": 167
        },
        "outputId": "4e52f993-9dbb-4c5f-bb1f-93b75cb82831"
      },
      "source": [
        "5 + \"a\" # não funciona"
      ],
      "execution_count": null,
      "outputs": [
        {
          "output_type": "error",
          "ename": "TypeError",
          "evalue": "ignored",
          "traceback": [
            "\u001b[0;31m---------------------------------------------------------------------------\u001b[0m",
            "\u001b[0;31mTypeError\u001b[0m                                 Traceback (most recent call last)",
            "\u001b[0;32m<ipython-input-51-04057d67df3e>\u001b[0m in \u001b[0;36m<module>\u001b[0;34m()\u001b[0m\n\u001b[0;32m----> 1\u001b[0;31m \u001b[0;36m5\u001b[0m \u001b[0;34m+\u001b[0m \u001b[0;34m\"a\"\u001b[0m \u001b[0;31m# não funciona\u001b[0m\u001b[0;34m\u001b[0m\u001b[0;34m\u001b[0m\u001b[0m\n\u001b[0m",
            "\u001b[0;31mTypeError\u001b[0m: unsupported operand type(s) for +: 'int' and 'str'"
          ]
        }
      ]
    },
    {
      "cell_type": "markdown",
      "metadata": {
        "id": "yIOzt-VHN8hi"
      },
      "source": [
        "### Com booleanos"
      ]
    },
    {
      "cell_type": "code",
      "metadata": {
        "id": "Cxw63HxZSCLl",
        "colab": {
          "base_uri": "https://localhost:8080/"
        },
        "outputId": "284174c7-3b29-4c5e-9a99-8b2c12bbe7b4"
      },
      "source": [
        "True +  True # converte o True para 1 e o False para 0 e faz numericamente"
      ],
      "execution_count": null,
      "outputs": [
        {
          "output_type": "execute_result",
          "data": {
            "text/plain": [
              "2"
            ]
          },
          "metadata": {
            "tags": []
          },
          "execution_count": 82
        }
      ]
    },
    {
      "cell_type": "code",
      "metadata": {
        "id": "EcB7GNrHN_fQ",
        "colab": {
          "base_uri": "https://localhost:8080/"
        },
        "outputId": "dcfc8f12-3d0f-43af-9b99-02dda2f40eef"
      },
      "source": [
        "(True + 4 )* False"
      ],
      "execution_count": null,
      "outputs": [
        {
          "output_type": "execute_result",
          "data": {
            "text/plain": [
              "0"
            ]
          },
          "metadata": {
            "tags": []
          },
          "execution_count": 83
        }
      ]
    },
    {
      "cell_type": "code",
      "metadata": {
        "id": "-QesKT7R0f7W"
      },
      "source": [
        ""
      ],
      "execution_count": null,
      "outputs": []
    },
    {
      "cell_type": "code",
      "metadata": {
        "id": "GIIi8k8pmjUB"
      },
      "source": [
        "# conversão de tipos de Dados\n",
        "\n",
        "string = \"10.5\"\n",
        "numero = float(string)\n",
        "numero + 10"
      ],
      "execution_count": null,
      "outputs": []
    },
    {
      "cell_type": "code",
      "metadata": {
        "id": "UWLLlb9_aPl5"
      },
      "source": [
        "a = int(\"104\")\n",
        "a + 1"
      ],
      "execution_count": null,
      "outputs": []
    },
    {
      "cell_type": "code",
      "metadata": {
        "id": "tS3V_KLWabI9"
      },
      "source": [
        "int(True)"
      ],
      "execution_count": null,
      "outputs": []
    },
    {
      "cell_type": "code",
      "metadata": {
        "id": "h1Im3kkaVyEO"
      },
      "source": [
        "a= 10.5\n",
        "str(a)"
      ],
      "execution_count": null,
      "outputs": []
    },
    {
      "cell_type": "code",
      "metadata": {
        "id": "BdMVKHpz1DwQ"
      },
      "source": [
        "## Escreva uma sequência de operações em python que converta uma medida em polegadas para centimentros -> 1pol = 2.54cm"
      ],
      "execution_count": null,
      "outputs": []
    },
    {
      "cell_type": "code",
      "metadata": {
        "id": "wk36iu_kCSZl"
      },
      "source": [
        ""
      ],
      "execution_count": null,
      "outputs": []
    },
    {
      "cell_type": "code",
      "metadata": {
        "id": "ZXpfLxgOiwas"
      },
      "source": [
        "### Escreva uma sequência de operações em python que converta um valor em real para dólar -> 1 dol = 5.27 real\n"
      ],
      "execution_count": null,
      "outputs": []
    },
    {
      "cell_type": "code",
      "metadata": {
        "id": "I9npnYCX7qdj"
      },
      "source": [
        "## Escreva uma sequência de operações em python que converta um valor em dólar para real\n"
      ],
      "execution_count": null,
      "outputs": []
    },
    {
      "cell_type": "code",
      "metadata": {
        "id": "4TMp9tEvW30k"
      },
      "source": [
        "## Exercicio Conversão de Celsius para Farenheit\n",
        "##  C * 9/5  + 32 = F \n"
      ],
      "execution_count": null,
      "outputs": []
    },
    {
      "cell_type": "markdown",
      "metadata": {
        "id": "Y19Z_OGlRlSE"
      },
      "source": [
        "# Desvios condicionais"
      ]
    },
    {
      "cell_type": "markdown",
      "metadata": {
        "id": "5G2rYzuzRrOL"
      },
      "source": [
        "if condicao:\n",
        "  codigo para executar quando a consiçãão for verdadeira\n",
        "  mais codigo\n",
        "  mais codigo\n",
        "outros códigos que não dependem da condição"
      ]
    },
    {
      "cell_type": "code",
      "metadata": {
        "id": "1OjGyX-is8U-",
        "colab": {
          "base_uri": "https://localhost:8080/"
        },
        "outputId": "791666b7-c2bc-4ed4-d4db-e82dbf33b96d"
      },
      "source": [
        "print('executa antes do if')\n",
        "if False:\n",
        "  print('Era verdadeira')\n",
        "  print('Outro Texto dentro do if')\n",
        "print('Imprimo independente do if')"
      ],
      "execution_count": null,
      "outputs": [
        {
          "output_type": "stream",
          "text": [
            "executa antes do if\n",
            "Imprimo independente do if\n"
          ],
          "name": "stdout"
        }
      ]
    },
    {
      "cell_type": "code",
      "metadata": {
        "id": "7DBV1KJYvjkB",
        "colab": {
          "base_uri": "https://localhost:8080/"
        },
        "outputId": "b1207528-995c-4e1a-e6a6-97a58fc33e0a"
      },
      "source": [
        "# Operadores de Comparação \n",
        "\n",
        "print(\"3 == 3:\", 3 == 3) # '==' representa igualdade \n",
        "print('\"Texto\" == \"Texto\":', \"Texto\" == \"Texto\")\n",
        "print('\"2.34\" == 2.34:', \"2.34\" == 2.34)\n",
        "variavel = 5\n",
        "print(\"2*variavel == 11:\", 2*variavel == 4 + 6)\n",
        "\n",
        "print(\"2 > 3:\", 2 > 3) # '>' verifica se o número a esquerda do símbolo é maior que o da direita\n",
        "print(\"2 > 2:\", 2 > 2)\n",
        "print(\"2 < 3:\", 2 < 3) # '<' verifica se o número a esquerda do símbolo é menor que o da direita\n",
        "print(\"2 < 2:\", 2 < 2)\n",
        "print(\"Zulu < abacate:\", \"Zulu\" < \"abacate\")\n",
        "\n",
        "print(\"2 >= 3:\", 2 >= 3) # '>=' verifica se o número a esquerda do símbolo é maior ou igual que o da direita\n",
        "print(\"2 >= 2:\", 2 >= 2)\n",
        "print(\"2 <= 3:\", 2 <= 3) # '<=' verifica se o número a esquerda do símbolo é menor ou igual que o da direita\n",
        "print(\"2 <= 2:\", 2 <= 2)\n",
        "print(\"abacaxi <= abacate:\", \"Abacaxi\" <= \"abacate\")\n",
        "\n",
        "print(\"3 != 2:\", 3 != 2) # '!=' verifica se os números são diferentes \n",
        "print(\"2 != 2:\", 2 != 2) # '!=' verifica se os números são diferentes \n",
        "print('\"Texto\" != \"Texto\":', \"Texto\" != \"Texto\")"
      ],
      "execution_count": null,
      "outputs": [
        {
          "output_type": "stream",
          "text": [
            "3 == 3: True\n",
            "\"Texto\" == \"Texto\": True\n",
            "\"2.34\" == 2.34: False\n",
            "2*variavel == 11: True\n",
            "2 > 3: False\n",
            "2 > 2: False\n",
            "2 < 3: True\n",
            "2 < 2: False\n",
            "Zulu < abacate: True\n",
            "2 >= 3: False\n",
            "2 >= 2: True\n",
            "2 <= 3: True\n",
            "2 <= 2: True\n",
            "abacaxi <= abacate: True\n",
            "3 != 2: True\n",
            "2 != 2: False\n",
            "\"Texto\" != \"Texto\": False\n"
          ],
          "name": "stdout"
        }
      ]
    },
    {
      "cell_type": "code",
      "metadata": {
        "colab": {
          "base_uri": "https://localhost:8080/"
        },
        "id": "3KNN_rZNInN3",
        "outputId": "f534cb60-a425-43d6-9038-39368509d39c"
      },
      "source": [
        "numero = int(input(\"Digite a idade da pessoa:\"))\n",
        "\n",
        "if numero >=18:\n",
        "  print(\"é maior de idade\")\n",
        "elif numero > 16:\n",
        "  print(\"ta quase\")\n",
        "elif numero > 10:\n",
        "  print(\"é menor\")\n",
        "else:\n",
        "  print(\"É um bebê\")\n",
        "\n",
        "print(\"continua o código depois do IF\")"
      ],
      "execution_count": null,
      "outputs": [
        {
          "output_type": "stream",
          "text": [
            "Digite a idade da pessoa:11\n",
            "é menor\n",
            "continua o código depois do IF\n"
          ],
          "name": "stdout"
        }
      ]
    },
    {
      "cell_type": "code",
      "metadata": {
        "id": "IFnAeN9AHHx6"
      },
      "source": [
        "numero = int(input(\"Digite a idade da pessoa:\\n\"))\n",
        "if numero > 14 and numero < 5:\n",
        "  print(\"Não pode comprar o ingresso\")\n",
        "elif numero > 18:\n",
        "  print(\"Pode comprar o ingresso\")\n",
        "else:\n",
        "  autorizacao = input(\"Tem autorização dos pais\")\n",
        "  if autorizacao == \"sim\":\n",
        "    print(\"pode comprar o ingresso\")\n",
        "  else:\n",
        "    print(\"não pode comprar o ingresso\")"
      ],
      "execution_count": null,
      "outputs": []
    },
    {
      "cell_type": "code",
      "metadata": {
        "id": "Aw2iw7Kdyhyq"
      },
      "source": [
        "# a*x² + b*x + c = 0\n",
        "\n",
        "# x² - x + 1 = 0 -> delta = -3 < 0\n",
        "# x² +2x + 1 = 0 -> delta = 0\n",
        "# x^2 - 4x = 0 - > delta = 16 > 0\n",
        "\n",
        "# le os dados de entrada\n",
        "a = float(input(\"Digite o valor de a: \"))\n",
        "b = float(input(\"Digite o valor de b: \"))\n",
        "c = float(input(\"digite o valor de c: \"))\n",
        "\n",
        "\n",
        "print(f\"O problema que você quer resolver é: {a}x² + {b}x + {c} = 0\")\n",
        "# Calcula o Delta\n",
        "\n",
        "delta = b * b - 4 * a * c\n",
        "print(f\"Delta é igual a: {delta:.3f}\")\n",
        "\n",
        "if delta > 0:\n",
        "  x1 = (-b + delta ** 0.5)/(2 * a)\n",
        "  x2 = (-b - delta ** 0.5)/(2 * a)\n",
        "  print(f\"O problema tem 2 soluções: {x1:.3f} e {x2:.3f}\")\n",
        "\n",
        "elif delta < 0:\n",
        "  print(\"O problema não tem soluções reais\")\n",
        "\n",
        "else:\n",
        "  x = -b/(2 * a)\n",
        "  print(f\"O problema possui apenas uma solução: {x}\")"
      ],
      "execution_count": null,
      "outputs": []
    },
    {
      "cell_type": "code",
      "metadata": {
        "id": "yhmC1YFR1ZOf",
        "colab": {
          "base_uri": "https://localhost:8080/"
        },
        "outputId": "c2e8ed7b-3b3f-400f-b4e0-f4f2c3e1933b"
      },
      "source": [
        "##  Carro flex \n",
        "\n",
        "## se o valor etanol for maior que 70% do valor do valor gasolina -> gasolina\n",
        "## se o valor do etanol for menor ou igual a 70% do valor gasolina -> etanol\n",
        "\n",
        "\n",
        "#gasolina, etanol = 4, 1 # etanol\n",
        "#gasolina, etanol = 4, 3 # gasolina\n",
        "#gasolina, etanol = 10, 7 # etanol\n",
        "#gasolina, etanol = 10, 7.0000000001"
      ],
      "execution_count": null,
      "outputs": [
        {
          "output_type": "stream",
          "text": [
            "Digite o preço da Gasolina:10\n",
            "Digite o preço da Etanol:7.000000001\n",
            "Abasteça com Gasolina\n"
          ],
          "name": "stdout"
        }
      ]
    },
    {
      "cell_type": "code",
      "metadata": {
        "id": "q_iWTDnJzC8S"
      },
      "source": [
        ""
      ],
      "execution_count": null,
      "outputs": []
    },
    {
      "cell_type": "markdown",
      "metadata": {
        "id": "zGNPUq9q3AYn"
      },
      "source": [
        "### Exercicio\n",
        "dada a tabela o IR, faça um programa que recebe o salário de um trabalhador e devolve o valor do imposto.\n",
        "\n",
        "|Base de cálculo (R$)\t|Alíquota (%)|\n",
        "--------------------- |-------------|\n",
        "|Abaixo de 1.903,99    | 0%  |\n",
        "|De 1.903,99 até 2.826,65|\t7,5%\t|\n",
        "|De 2.826,66 até 3.751,05|\t15%\t|\n",
        "|De 3.751,06 até 4.664,68|\t22,5%\t|\n",
        "|Acima de 4.664,68|\t27,5%|"
      ]
    },
    {
      "cell_type": "code",
      "metadata": {
        "id": "HKHvlmmN37VH",
        "colab": {
          "base_uri": "https://localhost:8080/"
        },
        "outputId": "52d99ea6-1e9d-4786-d59d-af3a6b1990c1"
      },
      "source": [
        ""
      ],
      "execution_count": null,
      "outputs": [
        {
          "output_type": "stream",
          "text": [
            "Por favor digite seu salário bruto: 4000\n",
            "O valor do imposto devido é: 900.0.\n",
            "900.0\n"
          ],
          "name": "stdout"
        }
      ]
    },
    {
      "cell_type": "code",
      "metadata": {
        "id": "nyxA4AP9lRoC"
      },
      "source": [
        ""
      ],
      "execution_count": null,
      "outputs": []
    },
    {
      "cell_type": "markdown",
      "metadata": {
        "id": "t_3jPIRCRuLl"
      },
      "source": [
        "# Laços de repetição"
      ]
    },
    {
      "cell_type": "markdown",
      "metadata": {
        "id": "e7KoKb_pR0Qa"
      },
      "source": [
        "## While (enquanto)"
      ]
    },
    {
      "cell_type": "markdown",
      "metadata": {
        "id": "aMCzwTRfvESf"
      },
      "source": [
        "while condição:\n",
        "  executa código para a condição verdadeira"
      ]
    },
    {
      "cell_type": "code",
      "metadata": {
        "id": "vLwOuQHdSBhV",
        "colab": {
          "base_uri": "https://localhost:8080/"
        },
        "outputId": "2541e1f9-730b-4d8c-808a-e72f1f36d45b"
      },
      "source": [
        "numero = 100 # inicialização\n",
        "\n",
        "while numero >= 50 : # a condição é verdadeira\n",
        "# if numero < 100\n",
        "  print(numero)\n",
        "  numero = numero -10 # atualiza a condição\n",
        "  # volta para o if\n",
        "print('terminou')\n"
      ],
      "execution_count": null,
      "outputs": [
        {
          "output_type": "stream",
          "text": [
            "100\n",
            "90\n",
            "80\n",
            "70\n",
            "60\n",
            "50\n",
            "terminou\n"
          ],
          "name": "stdout"
        }
      ]
    },
    {
      "cell_type": "code",
      "metadata": {
        "colab": {
          "base_uri": "https://localhost:8080/"
        },
        "id": "4BsdnkpXwlP4",
        "outputId": "0c6cc4ac-50f6-41aa-92b4-12b343c1a57a"
      },
      "source": [
        "numero = 0\n",
        "\n",
        "\n",
        "while numero <= 10:\n",
        "  print(numero, end=\", \")\n",
        "  numero = numero + 1\n"
      ],
      "execution_count": null,
      "outputs": [
        {
          "output_type": "stream",
          "text": [
            "0, 1, 2, 3, 4, 5, 6, 7, 8, 9, 10, "
          ],
          "name": "stdout"
        }
      ]
    },
    {
      "cell_type": "code",
      "metadata": {
        "colab": {
          "base_uri": "https://localhost:8080/"
        },
        "id": "RD5_x2Zk0Zm7",
        "outputId": "8dc4138b-02f8-4673-e53d-7ab691db5c0e"
      },
      "source": [
        "# Faça um programa em python que lê palavras digitadas pelo usuário até que ele digite \"sair\". \n",
        "# Depois informe quantas palavras ela digitou"
      ],
      "execution_count": null,
      "outputs": [
        {
          "output_type": "stream",
          "text": [
            "digite uma palavra ou 'sair' para sair: OLA\n",
            "digite uma palavra ou 'sair' para sair: ABACATE\n",
            "digite uma palavra ou 'sair' para sair: sair\n",
            "Você digitou 2 palavras, totalizando 10 letras. A média de letras por palavra é 5.0.\n"
          ],
          "name": "stdout"
        }
      ]
    },
    {
      "cell_type": "code",
      "metadata": {
        "colab": {
          "base_uri": "https://localhost:8080/"
        },
        "id": "JOHNNi2e1YMK",
        "outputId": "616777fa-67d5-4752-9897-769fd012bc52"
      },
      "source": [
        "# fazer um código python que calcula x^y\n",
        "\n",
        "base = 3\n",
        "expoente = 2\n",
        "\n",
        "resultado = 1\n",
        "while expoente > 0:\n",
        "  resultado = resultado * base # 2 \n",
        "  expoente = expoente - 1 # 0\n",
        "\n",
        "print(resultado)\n"
      ],
      "execution_count": null,
      "outputs": [
        {
          "output_type": "stream",
          "text": [
            "9\n"
          ],
          "name": "stdout"
        }
      ]
    },
    {
      "cell_type": "code",
      "metadata": {
        "id": "eUk0gZqw3m6-"
      },
      "source": [
        "## Le números do usuário até ele digitar o numero -1 (ok)\n",
        "## calcula a média dos números digitados\n",
        "\n"
      ],
      "execution_count": null,
      "outputs": []
    },
    {
      "cell_type": "markdown",
      "metadata": {
        "id": "Vs5AG3tpR5Tg"
      },
      "source": [
        "2\n",
        "## For (para cada)"
      ]
    },
    {
      "cell_type": "code",
      "metadata": {
        "id": "BcC_O8pSHaqB"
      },
      "source": [
        "minha_lista = [2,4,5,6]"
      ],
      "execution_count": null,
      "outputs": []
    },
    {
      "cell_type": "code",
      "metadata": {
        "id": "G2Lx6jefHawT"
      },
      "source": [
        "i = 0\n",
        "while i < len(minha_lista):\n",
        "  minha_lista[i] = minha_lista[i] + 1\n",
        "  i = i + 1"
      ],
      "execution_count": null,
      "outputs": []
    },
    {
      "cell_type": "code",
      "metadata": {
        "colab": {
          "base_uri": "https://localhost:8080/"
        },
        "id": "6zCNsFgzIKOv",
        "outputId": "549a98b8-113c-4661-e810-5934c1c7230c"
      },
      "source": [
        "minha_lista"
      ],
      "execution_count": null,
      "outputs": [
        {
          "output_type": "execute_result",
          "data": {
            "text/plain": [
              "[3, 5, 6, 7]"
            ]
          },
          "metadata": {
            "tags": []
          },
          "execution_count": 82
        }
      ]
    },
    {
      "cell_type": "code",
      "metadata": {
        "id": "ExWJ18MCSEfC"
      },
      "source": [
        "minha_lista_2 = []\n",
        "for item in minha_lista:\n",
        "  minha_lista_2.append(item * 2)\n",
        "\n",
        "\n",
        "\n"
      ],
      "execution_count": null,
      "outputs": []
    },
    {
      "cell_type": "code",
      "metadata": {
        "colab": {
          "base_uri": "https://localhost:8080/"
        },
        "id": "n21_8ULaJQfV",
        "outputId": "9bbd7926-0edb-4391-a7ee-e9ef4bede4f9"
      },
      "source": [
        "minha_lista_2"
      ],
      "execution_count": null,
      "outputs": [
        {
          "output_type": "execute_result",
          "data": {
            "text/plain": [
              "[6, 10, 12, 14]"
            ]
          },
          "metadata": {
            "tags": []
          },
          "execution_count": 91
        }
      ]
    },
    {
      "cell_type": "markdown",
      "metadata": {
        "id": "Z0X8VVoXOBdl"
      },
      "source": [
        "# Coleções de dados"
      ]
    },
    {
      "cell_type": "markdown",
      "metadata": {
        "id": "UaUM36SEOLB9"
      },
      "source": [
        "### Listas"
      ]
    },
    {
      "cell_type": "code",
      "metadata": {
        "id": "E9iNXUgHOEBt"
      },
      "source": [
        "lista = [\"ola\", 12, True, 12.56, [\"estou\", \"dentro\", \"de outra lista\"]]"
      ],
      "execution_count": null,
      "outputs": []
    },
    {
      "cell_type": "code",
      "metadata": {
        "colab": {
          "base_uri": "https://localhost:8080/",
          "height": 184
        },
        "id": "JT_mvQMqfCuG",
        "outputId": "1e52913f-8cb8-4aee-daf9-2c93b3c94fce"
      },
      "source": [
        "# acessar um elemento da lista\n",
        "lista[5] # em uma lista com N elementos os indices vão de 0 até N-1"
      ],
      "execution_count": null,
      "outputs": [
        {
          "output_type": "error",
          "ename": "IndexError",
          "evalue": "ignored",
          "traceback": [
            "\u001b[0;31m---------------------------------------------------------------------------\u001b[0m",
            "\u001b[0;31mIndexError\u001b[0m                                Traceback (most recent call last)",
            "\u001b[0;32m<ipython-input-54-b3b160e09df1>\u001b[0m in \u001b[0;36m<module>\u001b[0;34m()\u001b[0m\n\u001b[1;32m      1\u001b[0m \u001b[0;31m# acessar um elemento da lista\u001b[0m\u001b[0;34m\u001b[0m\u001b[0;34m\u001b[0m\u001b[0;34m\u001b[0m\u001b[0m\n\u001b[0;32m----> 2\u001b[0;31m \u001b[0mlista\u001b[0m\u001b[0;34m[\u001b[0m\u001b[0;36m5\u001b[0m\u001b[0;34m]\u001b[0m \u001b[0;31m# em uma lista com N elementos os indices vão de 0 até N-1\u001b[0m\u001b[0;34m\u001b[0m\u001b[0;34m\u001b[0m\u001b[0m\n\u001b[0m",
            "\u001b[0;31mIndexError\u001b[0m: list index out of range"
          ]
        }
      ]
    },
    {
      "cell_type": "code",
      "metadata": {
        "colab": {
          "base_uri": "https://localhost:8080/"
        },
        "id": "Di_85DZgN2d_",
        "outputId": "9d4987a1-d775-4bc0-e930-1bf384b449a4"
      },
      "source": [
        "len(lista) # devolve o numero de elementos em uma coleção"
      ],
      "execution_count": null,
      "outputs": [
        {
          "output_type": "execute_result",
          "data": {
            "text/plain": [
              "8"
            ]
          },
          "metadata": {
            "tags": []
          },
          "execution_count": 64
        }
      ]
    },
    {
      "cell_type": "code",
      "metadata": {
        "colab": {
          "base_uri": "https://localhost:8080/",
          "height": 184
        },
        "id": "bKMMhlezgVy1",
        "outputId": "26935a26-2c57-49b6-dafa-acfba59cc217"
      },
      "source": [
        "lista[5] = 1 \n",
        "print(lista)"
      ],
      "execution_count": null,
      "outputs": [
        {
          "output_type": "error",
          "ename": "IndexError",
          "evalue": "ignored",
          "traceback": [
            "\u001b[0;31m---------------------------------------------------------------------------\u001b[0m",
            "\u001b[0;31mIndexError\u001b[0m                                Traceback (most recent call last)",
            "\u001b[0;32m<ipython-input-55-e5e3a7d63955>\u001b[0m in \u001b[0;36m<module>\u001b[0;34m()\u001b[0m\n\u001b[0;32m----> 1\u001b[0;31m \u001b[0mlista\u001b[0m\u001b[0;34m[\u001b[0m\u001b[0;36m5\u001b[0m\u001b[0;34m]\u001b[0m \u001b[0;34m=\u001b[0m \u001b[0;36m1\u001b[0m\u001b[0;34m\u001b[0m\u001b[0;34m\u001b[0m\u001b[0m\n\u001b[0m\u001b[1;32m      2\u001b[0m \u001b[0mprint\u001b[0m\u001b[0;34m(\u001b[0m\u001b[0mlista\u001b[0m\u001b[0;34m)\u001b[0m\u001b[0;34m\u001b[0m\u001b[0;34m\u001b[0m\u001b[0m\n",
            "\u001b[0;31mIndexError\u001b[0m: list assignment index out of range"
          ]
        }
      ]
    },
    {
      "cell_type": "code",
      "metadata": {
        "id": "1ndUtTowh2mh"
      },
      "source": [
        "lista[5][2].append(\"inception\")"
      ],
      "execution_count": null,
      "outputs": []
    },
    {
      "cell_type": "code",
      "metadata": {
        "id": "r5CR8Nf8jZ1T"
      },
      "source": [
        "lista[5].insert(2, [])"
      ],
      "execution_count": null,
      "outputs": []
    },
    {
      "cell_type": "code",
      "metadata": {
        "colab": {
          "base_uri": "https://localhost:8080/"
        },
        "id": "H0hTNmjBjO_V",
        "outputId": "ebc359d9-d4e0-4e2e-a0b0-8b5262e1f21e"
      },
      "source": [
        "print(lista)"
      ],
      "execution_count": null,
      "outputs": [
        {
          "output_type": "stream",
          "text": [
            "['ola', 12, 500, True, 12.56, ['estou', 'dentro', ['inception'], False, 'de outra lista'], '12345', 'outro append']\n"
          ],
          "name": "stdout"
        }
      ]
    },
    {
      "cell_type": "code",
      "metadata": {
        "colab": {
          "base_uri": "https://localhost:8080/"
        },
        "id": "h__sJQrikHRK",
        "outputId": "8548a205-1153-4595-8594-080c89853786"
      },
      "source": [
        "deletado = lista.pop()\n",
        "print(lista)\n",
        "print(deletado)"
      ],
      "execution_count": null,
      "outputs": [
        {
          "output_type": "stream",
          "text": [
            "['ola', 12, 500, True, 12.56, ['estou', 'dentro', ['inception'], False, 'de outra lista']]\n",
            "outro append\n"
          ],
          "name": "stdout"
        }
      ]
    },
    {
      "cell_type": "code",
      "metadata": {
        "colab": {
          "base_uri": "https://localhost:8080/"
        },
        "id": "mEE7KfNUk0p-",
        "outputId": "22726258-e2c1-4d9f-a27a-fab36038c97c"
      },
      "source": [
        "lista2 = []\n",
        "print(lista2)"
      ],
      "execution_count": null,
      "outputs": [
        {
          "output_type": "stream",
          "text": [
            "[]\n"
          ],
          "name": "stdout"
        }
      ]
    },
    {
      "cell_type": "code",
      "metadata": {
        "colab": {
          "base_uri": "https://localhost:8080/"
        },
        "id": "YgN8i0nqk69w",
        "outputId": "29b84cbd-fcd8-4f9b-b531-e3ad53ac26dd"
      },
      "source": [
        "lista2.append(\"hello\")\n",
        "print(lista2)"
      ],
      "execution_count": null,
      "outputs": [
        {
          "output_type": "stream",
          "text": [
            "['Olá', 'hello']\n"
          ],
          "name": "stdout"
        }
      ]
    },
    {
      "cell_type": "code",
      "metadata": {
        "colab": {
          "base_uri": "https://localhost:8080/"
        },
        "id": "pbMhevG7p4sj",
        "outputId": "302c3f8b-20a8-4205-ba4a-e7832ede5cd6"
      },
      "source": [
        "len(lista)"
      ],
      "execution_count": null,
      "outputs": [
        {
          "output_type": "execute_result",
          "data": {
            "text/plain": [
              "8"
            ]
          },
          "metadata": {
            "tags": []
          },
          "execution_count": 58
        }
      ]
    },
    {
      "cell_type": "code",
      "metadata": {
        "colab": {
          "base_uri": "https://localhost:8080/"
        },
        "id": "dcaEu2qFTbIi",
        "outputId": "61692374-991f-43b4-82bb-12e026fb6ac0"
      },
      "source": [
        "## Modifique o algoritmo que calculava a média dos números\n",
        "## para encontrar a mediana dos valores\n",
        "## dica: Use listas par guardar todos os valores informados\n",
        "\n",
        "# como calcular a mediana\n",
        "# ordenamos os valores do menos para o maior\n",
        "# se tem núúmeo impar de valores a mediana éé o valor do meio\n",
        "#[ 5 , 1,2] -> [1,2,5] -> 2\n",
        "# Se tem um numero par de valores, a mediana éé a media dos 2 centrais\n",
        "#[ 5 , 1, 4,2] -> [1,2,4,5]- > 3 = (2+4)/2\n",
        "\n",
        "numero = int(input(\"Digite um número: (-1 para sair)\"))\n",
        "numeros = []\n",
        "while numero != -1:\n",
        "  numeros.append(numero)\n",
        "  numero = int(input(\"Digite um número: (-1 para sair)\"))\n",
        "\n",
        "numeros_ord = sorted(numeros)\n",
        "if len(numeros) == 0:\n",
        "  print(\"Não é possível calcular a mediana de 0 números\")\n",
        "elif len(numeros) % 2 == 1:\n",
        "  posicao = (len(numeros)-1)//2\n",
        "  print(f\"A mediana de {numeros} é: {numeros_ord[posicao]}\")\n",
        "else:\n",
        "  indice1 = len(numeros)//2\n",
        "  indice2 = indice1 -1\n",
        "  mediana = (numeros_ord[indice1] + numeros_ord[indice2])/2\n",
        "  print(f\"A mediana de {numeros} é: {mediana}\")\n",
        "\n",
        "  "
      ],
      "execution_count": null,
      "outputs": [
        {
          "output_type": "stream",
          "text": [
            "Digite um número: (-1 para sair)6\n",
            "Digite um número: (-1 para sair)2\n",
            "Digite um número: (-1 para sair)8\n",
            "Digite um número: (-1 para sair)1\n",
            "Digite um número: (-1 para sair)-1\n",
            "A mediana de [6, 2, 8, 1] é: 4.0\n"
          ],
          "name": "stdout"
        }
      ]
    },
    {
      "cell_type": "code",
      "metadata": {
        "id": "EJYOgDs3TbPH"
      },
      "source": [
        "lista = [5,3,4,1,8, 2]"
      ],
      "execution_count": null,
      "outputs": []
    },
    {
      "cell_type": "code",
      "metadata": {
        "colab": {
          "base_uri": "https://localhost:8080/"
        },
        "id": "IOQWj8TjTbX_",
        "outputId": "5a8b6c7a-56e8-40bf-ef9b-728e6c827933"
      },
      "source": [
        "sorted(lista)"
      ],
      "execution_count": null,
      "outputs": [
        {
          "output_type": "execute_result",
          "data": {
            "text/plain": [
              "[1, 2, 3, 4, 5, 8]"
            ]
          },
          "metadata": {
            "tags": []
          },
          "execution_count": 99
        }
      ]
    },
    {
      "cell_type": "code",
      "metadata": {
        "colab": {
          "base_uri": "https://localhost:8080/"
        },
        "id": "ktuYleyiTbgC",
        "outputId": "cbd4e16c-d474-4fe3-9623-6b70b79fc1c8"
      },
      "source": [
        "lista[2]"
      ],
      "execution_count": null,
      "outputs": [
        {
          "output_type": "execute_result",
          "data": {
            "text/plain": [
              "4"
            ]
          },
          "metadata": {
            "tags": []
          },
          "execution_count": 97
        }
      ]
    },
    {
      "cell_type": "markdown",
      "metadata": {
        "id": "-NL7Brd7OXQK"
      },
      "source": [
        "## Dicionários"
      ]
    },
    {
      "cell_type": "code",
      "metadata": {
        "id": "3KvZ1YQWhQ22"
      },
      "source": [
        "dicionario = {'nome': 'Guilherme', 'matricula': 123456, 'cpf': 0 }\n",
        "lista = ['Guilherme',123456, 0, 'Guilherme']"
      ],
      "execution_count": null,
      "outputs": []
    },
    {
      "cell_type": "code",
      "metadata": {
        "id": "sgDJTsc5hICM"
      },
      "source": [
        "dicionario['nome'] = \"Guilherme\" "
      ],
      "execution_count": null,
      "outputs": []
    },
    {
      "cell_type": "code",
      "metadata": {
        "colab": {
          "base_uri": "https://localhost:8080/"
        },
        "id": "cesWmaJVMTWO",
        "outputId": "06246cd2-cc16-449b-bb46-7f52ea30daf9"
      },
      "source": [
        "len(dicionario)"
      ],
      "execution_count": null,
      "outputs": [
        {
          "output_type": "execute_result",
          "data": {
            "text/plain": [
              "4"
            ]
          },
          "metadata": {
            "tags": []
          },
          "execution_count": 105
        }
      ]
    },
    {
      "cell_type": "code",
      "metadata": {
        "id": "r4EImW7MSHBz",
        "colab": {
          "base_uri": "https://localhost:8080/"
        },
        "outputId": "85ec8f1e-3f85-4681-f942-68af263aca2a"
      },
      "source": [
        "dicionario"
      ],
      "execution_count": null,
      "outputs": [
        {
          "output_type": "execute_result",
          "data": {
            "text/plain": [
              "{'cpf': 0, 'matricula': 123456, 'nome': 'Guilherme', 'outro_nome': 'Gabriel'}"
            ]
          },
          "metadata": {
            "tags": []
          },
          "execution_count": 104
        }
      ]
    },
    {
      "cell_type": "code",
      "metadata": {
        "colab": {
          "base_uri": "https://localhost:8080/",
          "height": 167
        },
        "id": "jYfLoqQ7wJK1",
        "outputId": "4da1162b-4596-42dd-91aa-d9a30fd7b08b"
      },
      "source": [
        "dicionario['rg']"
      ],
      "execution_count": null,
      "outputs": [
        {
          "output_type": "error",
          "ename": "KeyError",
          "evalue": "ignored",
          "traceback": [
            "\u001b[0;31m---------------------------------------------------------------------------\u001b[0m",
            "\u001b[0;31mKeyError\u001b[0m                                  Traceback (most recent call last)",
            "\u001b[0;32m<ipython-input-106-93fef11ba15e>\u001b[0m in \u001b[0;36m<module>\u001b[0;34m()\u001b[0m\n\u001b[0;32m----> 1\u001b[0;31m \u001b[0mdicionario\u001b[0m\u001b[0;34m[\u001b[0m\u001b[0;34m'rg'\u001b[0m\u001b[0;34m]\u001b[0m\u001b[0;34m\u001b[0m\u001b[0;34m\u001b[0m\u001b[0m\n\u001b[0m",
            "\u001b[0;31mKeyError\u001b[0m: 'rg'"
          ]
        }
      ]
    },
    {
      "cell_type": "code",
      "metadata": {
        "id": "dwvyXg7JwVmN"
      },
      "source": [
        "dicionario['notas'] = {'matematica': [5,6,7], 'historia': [1,2]}"
      ],
      "execution_count": null,
      "outputs": []
    },
    {
      "cell_type": "code",
      "metadata": {
        "id": "-t4urkKQxAdC",
        "colab": {
          "base_uri": "https://localhost:8080/"
        },
        "outputId": "da3efbde-5734-46c8-bcec-714f5c543755"
      },
      "source": [
        "dicionario"
      ],
      "execution_count": null,
      "outputs": [
        {
          "output_type": "execute_result",
          "data": {
            "text/plain": [
              "{'cpf': 0,\n",
              " 'matricula': 123456,\n",
              " 'nome': 'Guilherme',\n",
              " 'notas': {'historia': [1, 2], 'matematica': [5, 6, 7]},\n",
              " 'outro_nome': 'Gabriel'}"
            ]
          },
          "metadata": {
            "tags": []
          },
          "execution_count": 108
        }
      ]
    },
    {
      "cell_type": "code",
      "metadata": {
        "id": "ezhBQbhbx0X9"
      },
      "source": [
        "dicionario[3] = True"
      ],
      "execution_count": null,
      "outputs": []
    },
    {
      "cell_type": "code",
      "metadata": {
        "id": "dbjrEtRVnuoC"
      },
      "source": [
        "alunos = [{'nome': 'Guilherme', 'notas': {'historia': [1, 3, 8] }},{'aluno': 'Gabriel'} ,{'aluno': 'Bianca'}]\n"
      ],
      "execution_count": null,
      "outputs": []
    },
    {
      "cell_type": "code",
      "metadata": {
        "colab": {
          "base_uri": "https://localhost:8080/",
          "height": 167
        },
        "id": "uFsDaKMRx9Vo",
        "outputId": "55d0bb9e-6d5f-43b4-91da-2216f4df110c"
      },
      "source": [
        "alunos[2]['notas']['historia'][0]"
      ],
      "execution_count": null,
      "outputs": [
        {
          "output_type": "error",
          "ename": "KeyError",
          "evalue": "ignored",
          "traceback": [
            "\u001b[0;31m---------------------------------------------------------------------------\u001b[0m",
            "\u001b[0;31mKeyError\u001b[0m                                  Traceback (most recent call last)",
            "\u001b[0;32m<ipython-input-111-1e7aa6e26623>\u001b[0m in \u001b[0;36m<module>\u001b[0;34m()\u001b[0m\n\u001b[0;32m----> 1\u001b[0;31m \u001b[0malunos\u001b[0m\u001b[0;34m[\u001b[0m\u001b[0;36m2\u001b[0m\u001b[0;34m]\u001b[0m\u001b[0;34m[\u001b[0m\u001b[0;34m'notas'\u001b[0m\u001b[0;34m]\u001b[0m\u001b[0;34m[\u001b[0m\u001b[0;34m'historia'\u001b[0m\u001b[0;34m]\u001b[0m\u001b[0;34m[\u001b[0m\u001b[0;36m0\u001b[0m\u001b[0;34m]\u001b[0m\u001b[0;34m\u001b[0m\u001b[0;34m\u001b[0m\u001b[0m\n\u001b[0m",
            "\u001b[0;31mKeyError\u001b[0m: 'notas'"
          ]
        }
      ]
    },
    {
      "cell_type": "code",
      "metadata": {
        "colab": {
          "base_uri": "https://localhost:8080/"
        },
        "id": "ohVSbezpwa1i",
        "outputId": "8e585c20-13d8-4d8b-d874-787d7a08a3ad"
      },
      "source": [
        "print(dicionario)"
      ],
      "execution_count": null,
      "outputs": [
        {
          "output_type": "stream",
          "text": [
            "{'nome': 'Bianca', 'matricula': 123456, 'cpf': 0, 'notas': {'matematica': [5, 9, 7], 'historia': [1, 2]}, 'altura': 1.8, 3: True}\n"
          ],
          "name": "stdout"
        }
      ]
    },
    {
      "cell_type": "code",
      "metadata": {
        "colab": {
          "base_uri": "https://localhost:8080/"
        },
        "id": "qSiLNr2lyHjU",
        "outputId": "de081495-cb8e-4f30-81a1-8e869750bbe2"
      },
      "source": [
        "for chave, valor in dicionario.items():\n",
        "  print(chave, valor)"
      ],
      "execution_count": null,
      "outputs": [
        {
          "output_type": "stream",
          "text": [
            "nome Bianca\n",
            "matricula 123456\n",
            "cpf 0\n",
            "notas {'matematica': [5, 9, 7], 'historia': [1, 2]}\n",
            "altura 1.8\n",
            "3 True\n"
          ],
          "name": "stdout"
        }
      ]
    },
    {
      "cell_type": "code",
      "metadata": {
        "id": "zCHK40m4k3nV"
      },
      "source": [
        "texto = \"Ola eu sou o Guilherme, eu gosto de sorvete de baunilha e de sorvete de morango\""
      ],
      "execution_count": null,
      "outputs": []
    },
    {
      "cell_type": "code",
      "metadata": {
        "colab": {
          "base_uri": "https://localhost:8080/"
        },
        "id": "pWymmlGXlcUb",
        "outputId": "f3d99688-e02c-4af8-c6e9-7fcbbd014acb"
      },
      "source": [
        "texto.split()"
      ],
      "execution_count": null,
      "outputs": [
        {
          "output_type": "execute_result",
          "data": {
            "text/plain": [
              "['Ola',\n",
              " 'eu',\n",
              " 'sou',\n",
              " 'o',\n",
              " 'Guilherme,',\n",
              " 'eu',\n",
              " 'gosto',\n",
              " 'de',\n",
              " 'sorvete',\n",
              " 'de',\n",
              " 'baunilha',\n",
              " 'e',\n",
              " 'de',\n",
              " 'sorvete',\n",
              " 'de',\n",
              " 'morango']"
            ]
          },
          "metadata": {
            "tags": []
          },
          "execution_count": 157
        }
      ]
    },
    {
      "cell_type": "code",
      "metadata": {
        "id": "47ISUiDPk3tU"
      },
      "source": [
        "contador = {}\n",
        "for palavra in texto.lower().split():\n",
        "  if palavra not in contador:\n",
        "    contador[palavra]  = 1\n",
        "  else:\n",
        "    contador[palavra] = contador[palavra] + 1"
      ],
      "execution_count": null,
      "outputs": []
    },
    {
      "cell_type": "code",
      "metadata": {
        "id": "5kdgFK_cml6h"
      },
      "source": [
        "palavra_frequente = ''\n",
        "maximo = 0\n",
        "segundo_maximo = \n",
        "for palavra, contagem in contador.items():\n",
        "  if contagem > maximo:\n",
        "    maximo = contagem\n",
        "    palavra_frequente = palavra\n"
      ],
      "execution_count": null,
      "outputs": []
    },
    {
      "cell_type": "code",
      "metadata": {
        "colab": {
          "base_uri": "https://localhost:8080/"
        },
        "id": "bONWD6htk35O",
        "outputId": "2126c7f5-3378-46d1-ed1e-2c7a4baa7125"
      },
      "source": [
        "contador"
      ],
      "execution_count": null,
      "outputs": [
        {
          "output_type": "execute_result",
          "data": {
            "text/plain": [
              "{'baunilha': 1,\n",
              " 'de': 4,\n",
              " 'e': 1,\n",
              " 'eu': 2,\n",
              " 'gosto': 1,\n",
              " 'guilherme,': 1,\n",
              " 'morango': 1,\n",
              " 'o': 1,\n",
              " 'ola': 1,\n",
              " 'sorvete': 2,\n",
              " 'sou': 1}"
            ]
          },
          "metadata": {
            "tags": []
          },
          "execution_count": 167
        }
      ]
    },
    {
      "cell_type": "code",
      "metadata": {
        "colab": {
          "base_uri": "https://localhost:8080/"
        },
        "id": "2i-X8Umkm82s",
        "outputId": "204a2754-6298-4600-ef5d-9edb6ce93173"
      },
      "source": [
        "maximo"
      ],
      "execution_count": null,
      "outputs": [
        {
          "output_type": "execute_result",
          "data": {
            "text/plain": [
              "4"
            ]
          },
          "metadata": {
            "tags": []
          },
          "execution_count": 172
        }
      ]
    },
    {
      "cell_type": "markdown",
      "metadata": {
        "id": "DKE8lbKVT670"
      },
      "source": [
        "## Tuplas"
      ]
    },
    {
      "cell_type": "code",
      "metadata": {
        "id": "p8xl5azdT9sy"
      },
      "source": [
        "t = (1,2, 3)\n"
      ],
      "execution_count": null,
      "outputs": []
    },
    {
      "cell_type": "code",
      "metadata": {
        "colab": {
          "base_uri": "https://localhost:8080/",
          "height": 167
        },
        "id": "h1Q4qUbu1w-c",
        "outputId": "9de60f7f-ba55-49fa-c325-d52346ae3b5d"
      },
      "source": [
        "t[0] = 10"
      ],
      "execution_count": null,
      "outputs": [
        {
          "output_type": "error",
          "ename": "TypeError",
          "evalue": "ignored",
          "traceback": [
            "\u001b[0;31m---------------------------------------------------------------------------\u001b[0m",
            "\u001b[0;31mTypeError\u001b[0m                                 Traceback (most recent call last)",
            "\u001b[0;32m<ipython-input-97-88963aa635fa>\u001b[0m in \u001b[0;36m<module>\u001b[0;34m()\u001b[0m\n\u001b[0;32m----> 1\u001b[0;31m \u001b[0mt\u001b[0m\u001b[0;34m[\u001b[0m\u001b[0;36m0\u001b[0m\u001b[0;34m]\u001b[0m \u001b[0;34m=\u001b[0m \u001b[0;36m10\u001b[0m\u001b[0;34m\u001b[0m\u001b[0;34m\u001b[0m\u001b[0m\n\u001b[0m",
            "\u001b[0;31mTypeError\u001b[0m: 'tuple' object does not support item assignment"
          ]
        }
      ]
    },
    {
      "cell_type": "markdown",
      "metadata": {
        "id": "68aRt2zTT-Vq"
      },
      "source": [
        "## Muitas outras coleções!"
      ]
    },
    {
      "cell_type": "code",
      "metadata": {
        "id": "40XD_ZpD1we9"
      },
      "source": [
        ""
      ],
      "execution_count": null,
      "outputs": []
    },
    {
      "cell_type": "markdown",
      "metadata": {
        "id": "lGl4nOxCSHgX"
      },
      "source": [
        "# Funções"
      ]
    },
    {
      "cell_type": "markdown",
      "metadata": {
        "id": "cfLR7Q05OHzK"
      },
      "source": [
        ""
      ]
    },
    {
      "cell_type": "code",
      "metadata": {
        "id": "5lsvSsB-2wV4"
      },
      "source": [
        "def diz_ola():\n",
        "  print('Olá')\n",
        "  print('tudo bem?')\n",
        "  print('outro print')"
      ],
      "execution_count": null,
      "outputs": []
    },
    {
      "cell_type": "code",
      "metadata": {
        "id": "5ZP6DJz23AzZ"
      },
      "source": [
        "def le_numeros():\n",
        "  lista_de_notas = []\n",
        "  nota = float(input(\"digite um número ou 0 para parar: \")) # inicialização\n",
        "  while nota != 0: # enquanto a condição for verdadeira\n",
        "    lista_de_notas.append(nota)\n",
        "    nota = float(input(\"digite um número ou 0 para parar: \")) # atualização\n",
        "  return lista_de_notas\n"
      ],
      "execution_count": null,
      "outputs": []
    },
    {
      "cell_type": "code",
      "metadata": {
        "id": "j6Bn4g_d4oQl"
      },
      "source": [
        "def calcula_media(lista_para_calcular):\n",
        "  soma = 0\n",
        "  for elem in lista_para_calcular:\n",
        "    soma = soma + elem\n",
        "  return soma/len(lista_para_calcular)"
      ],
      "execution_count": null,
      "outputs": []
    },
    {
      "cell_type": "code",
      "metadata": {
        "colab": {
          "base_uri": "https://localhost:8080/"
        },
        "id": "MgMO85Eq3Hpa",
        "outputId": "1fbeaee3-bb6e-4338-ed4b-40029596d155"
      },
      "source": [
        "minha_lista = le_numeros()"
      ],
      "execution_count": null,
      "outputs": [
        {
          "output_type": "stream",
          "text": [
            "digite um número ou -1 para parar: 2\n",
            "digite um número ou -1 para parar: 5\n",
            "digite um número ou -1 para parar: 8\n",
            "digite um número ou -1 para parar: -1\n"
          ],
          "name": "stdout"
        }
      ]
    },
    {
      "cell_type": "code",
      "metadata": {
        "colab": {
          "base_uri": "https://localhost:8080/"
        },
        "id": "7FW0srjg3Puh",
        "outputId": "22dc04fd-0526-4df9-c261-f1372fb69cde"
      },
      "source": [
        "minha_lista"
      ],
      "execution_count": null,
      "outputs": [
        {
          "output_type": "execute_result",
          "data": {
            "text/plain": [
              "[2.0, 5.0, 8.0]"
            ]
          },
          "metadata": {
            "tags": []
          },
          "execution_count": 108
        }
      ]
    },
    {
      "cell_type": "code",
      "metadata": {
        "id": "oj12ZUG34A43"
      },
      "source": [
        "import math"
      ],
      "execution_count": null,
      "outputs": []
    },
    {
      "cell_type": "code",
      "metadata": {
        "colab": {
          "base_uri": "https://localhost:8080/"
        },
        "id": "ymz7LDzN6yvf",
        "outputId": "b52e878e-23cf-46cc-83f8-850f1dae0873"
      },
      "source": [
        "math.sin(5)"
      ],
      "execution_count": null,
      "outputs": [
        {
          "output_type": "execute_result",
          "data": {
            "text/plain": [
              "-0.9589242746631385"
            ]
          },
          "metadata": {
            "tags": []
          },
          "execution_count": 119
        }
      ]
    },
    {
      "cell_type": "code",
      "metadata": {
        "id": "k8pz3Txb63Qy"
      },
      "source": [
        ""
      ],
      "execution_count": null,
      "outputs": []
    },
    {
      "cell_type": "code",
      "metadata": {
        "colab": {
          "base_uri": "https://localhost:8080/"
        },
        "id": "EWSrorkq7Yk2",
        "outputId": "9a593de3-a529-4228-9089-1bb193d9a1d3"
      },
      "source": [
        "math.pi"
      ],
      "execution_count": null,
      "outputs": [
        {
          "output_type": "execute_result",
          "data": {
            "text/plain": [
              "3.141592653589793"
            ]
          },
          "metadata": {
            "tags": []
          },
          "execution_count": 125
        }
      ]
    },
    {
      "cell_type": "code",
      "metadata": {
        "id": "dr5_M5qy7s7O"
      },
      "source": [
        ""
      ],
      "execution_count": null,
      "outputs": []
    }
  ]
}